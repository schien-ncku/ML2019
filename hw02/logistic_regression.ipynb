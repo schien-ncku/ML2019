{
 "cells": [
  {
   "cell_type": "markdown",
   "metadata": {},
   "source": [
    "# This is based on the sample code provided by TA2019\n",
    "# at https://ntumlta2019.github.io/ml-web-hw2/LogisticRegression.html"
   ]
  },
  {
   "cell_type": "code",
   "execution_count": 1,
   "metadata": {},
   "outputs": [],
   "source": [
    "# get the training data\n",
    "import numpy as np\n",
    "import pandas as pd\n",
    "\n",
    "X_train = np.genfromtxt('X_train', delimiter=',', skip_header=1)\n",
    "# X_train = np.array(pd.read_csv(\"X_train\"), dtype=float)"
   ]
  },
  {
   "cell_type": "code",
   "execution_count": 2,
   "metadata": {},
   "outputs": [
    {
     "data": {
      "text/plain": [
       "(32561, 106)"
      ]
     },
     "execution_count": 2,
     "metadata": {},
     "output_type": "execute_result"
    }
   ],
   "source": [
    "X_train.shape"
   ]
  },
  {
   "cell_type": "code",
   "execution_count": 3,
   "metadata": {},
   "outputs": [],
   "source": [
    "Y_train = np.genfromtxt('Y_train', delimiter=',')\n",
    "# Y_train = np.array(pd.read_csv(\"Y_train\", header=None), dtype=float)"
   ]
  },
  {
   "cell_type": "code",
   "execution_count": 4,
   "metadata": {},
   "outputs": [
    {
     "data": {
      "text/plain": [
       "(32561,)"
      ]
     },
     "execution_count": 4,
     "metadata": {},
     "output_type": "execute_result"
    }
   ],
   "source": [
    "Y_train.shape"
   ]
  },
  {
   "cell_type": "code",
   "execution_count": 5,
   "metadata": {},
   "outputs": [],
   "source": [
    "# normalize data\n",
    "# 0 age, 1 fnlwgt, 3 capital_gain, 4 capital_loss, 5 hours_per_week\n",
    "\n",
    "# col = [0,1,3,4,5,7,10,12,25,26,27,28] # this line by TA does not make sense\n",
    "col = [0,1,3,4,5]"
   ]
  },
  {
   "cell_type": "code",
   "execution_count": 6,
   "metadata": {},
   "outputs": [],
   "source": [
    "# into _normalize_column_normal\n",
    "length = len(col)\n",
    "X_mean = np.reshape(np.mean(X_train[:,col],0), (1, length))"
   ]
  },
  {
   "cell_type": "code",
   "execution_count": 7,
   "metadata": {},
   "outputs": [
    {
     "data": {
      "text/plain": [
       "array([[3.85816468e+01, 1.89778367e+05, 1.07764884e+03, 8.73038297e+01,\n",
       "        4.04374559e+01]])"
      ]
     },
     "execution_count": 7,
     "metadata": {},
     "output_type": "execute_result"
    }
   ],
   "source": [
    "X_mean"
   ]
  },
  {
   "cell_type": "code",
   "execution_count": 8,
   "metadata": {},
   "outputs": [],
   "source": [
    "X_std = np.reshape(np.std(X_train[:,col],0), (1, length))"
   ]
  },
  {
   "cell_type": "code",
   "execution_count": 9,
   "metadata": {},
   "outputs": [
    {
     "data": {
      "text/plain": [
       "array([[1.36402231e+01, 1.05548357e+05, 7.38517868e+03, 4.02954031e+02,\n",
       "        1.23472391e+01]])"
      ]
     },
     "execution_count": 9,
     "metadata": {},
     "output_type": "execute_result"
    }
   ],
   "source": [
    "X_std"
   ]
  },
  {
   "cell_type": "code",
   "execution_count": 10,
   "metadata": {},
   "outputs": [],
   "source": [
    "X_train[:,col] = np.divide(np.subtract(X_train[:,col],X_mean), X_std)"
   ]
  },
  {
   "cell_type": "code",
   "execution_count": 11,
   "metadata": {},
   "outputs": [
    {
     "data": {
      "text/plain": [
       "array([[ 0.03067056, -1.06361075,  1.        , ...,  0.        ,\n",
       "         0.        ,  0.        ],\n",
       "       [ 0.83710898, -1.008707  ,  1.        , ...,  0.        ,\n",
       "         0.        ,  0.        ],\n",
       "       [-0.04264203,  0.2450785 ,  1.        , ...,  0.        ,\n",
       "         0.        ,  0.        ],\n",
       "       ...,\n",
       "       [ 1.42360965, -0.35877741,  0.        , ...,  0.        ,\n",
       "         0.        ,  0.        ],\n",
       "       [-1.21564337,  0.11095988,  1.        , ...,  0.        ,\n",
       "         0.        ,  0.        ],\n",
       "       [ 0.98373415,  0.92989258,  0.        , ...,  0.        ,\n",
       "         0.        ,  0.        ]])"
      ]
     },
     "execution_count": 11,
     "metadata": {},
     "output_type": "execute_result"
    }
   ],
   "source": [
    "X_train"
   ]
  },
  {
   "cell_type": "code",
   "execution_count": 12,
   "metadata": {},
   "outputs": [],
   "source": [
    "# end of X_train normalization\n",
    "# this makes age, fnlwgt, capital_gain, capital_loss, hours_per_week data into normal distribution"
   ]
  },
  {
   "cell_type": "code",
   "execution_count": 13,
   "metadata": {},
   "outputs": [],
   "source": [
    "# step into the train(X_train, Y_train) function\n",
    "\n",
    "# first, split a validation set\n",
    "dev_size = 0.1155\n",
    "train_len = int(round(len(X_train)*(1-dev_size)))"
   ]
  },
  {
   "cell_type": "code",
   "execution_count": 14,
   "metadata": {},
   "outputs": [
    {
     "data": {
      "text/plain": [
       "28800"
      ]
     },
     "execution_count": 14,
     "metadata": {},
     "output_type": "execute_result"
    }
   ],
   "source": [
    "train_len"
   ]
  },
  {
   "cell_type": "code",
   "execution_count": 15,
   "metadata": {},
   "outputs": [],
   "source": [
    "X_train_data = X_train[0:train_len] # use a different variable name to maintain source data"
   ]
  },
  {
   "cell_type": "code",
   "execution_count": 16,
   "metadata": {},
   "outputs": [
    {
     "data": {
      "text/plain": [
       "(28800, 106)"
      ]
     },
     "execution_count": 16,
     "metadata": {},
     "output_type": "execute_result"
    }
   ],
   "source": [
    "X_train_data.shape"
   ]
  },
  {
   "cell_type": "code",
   "execution_count": 17,
   "metadata": {},
   "outputs": [],
   "source": [
    "Y_train_data = Y_train[0:train_len]"
   ]
  },
  {
   "cell_type": "code",
   "execution_count": 18,
   "metadata": {},
   "outputs": [
    {
     "data": {
      "text/plain": [
       "(28800,)"
      ]
     },
     "execution_count": 18,
     "metadata": {},
     "output_type": "execute_result"
    }
   ],
   "source": [
    "Y_train_data.shape"
   ]
  },
  {
   "cell_type": "code",
   "execution_count": 19,
   "metadata": {},
   "outputs": [],
   "source": [
    "X_dev = X_train[train_len:None]\n",
    "Y_dev = Y_train[train_len:None]"
   ]
  },
  {
   "cell_type": "code",
   "execution_count": 20,
   "metadata": {},
   "outputs": [
    {
     "data": {
      "text/plain": [
       "(3761, 106)"
      ]
     },
     "execution_count": 20,
     "metadata": {},
     "output_type": "execute_result"
    }
   ],
   "source": [
    "X_dev.shape"
   ]
  },
  {
   "cell_type": "code",
   "execution_count": 21,
   "metadata": {},
   "outputs": [],
   "source": [
    "# X_train_data and Y_train data are training set\n",
    "\n",
    "# step 2, use 0+0*x1+0*x2+... for weight initialization\n",
    "w = np.zeros((X_train_data.shape[1],))\n",
    "b = np.zeros((1,))"
   ]
  },
  {
   "cell_type": "code",
   "execution_count": 22,
   "metadata": {},
   "outputs": [],
   "source": [
    "regularize = True\n",
    "lamda = 0.001\n",
    "max_iter = 40\n",
    "batch_size = 32\n",
    "learning_rate = 0.2"
   ]
  },
  {
   "cell_type": "code",
   "execution_count": 23,
   "metadata": {},
   "outputs": [],
   "source": [
    "num_train = len(Y_train_data)\n",
    "num_dev = len(Y_dev)\n",
    "step = 1"
   ]
  },
  {
   "cell_type": "code",
   "execution_count": 24,
   "metadata": {},
   "outputs": [],
   "source": [
    "loss_train = []\n",
    "loss_validation = []\n",
    "train_acc = []\n",
    "dev_acc = []"
   ]
  },
  {
   "cell_type": "code",
   "execution_count": 25,
   "metadata": {},
   "outputs": [
    {
     "name": "stdout",
     "output_type": "stream",
     "text": [
      "training (accuracy/loss):  0.8078472222222223 / 0.39656970562682065\n",
      "validation (accuracy/loss):  0.8035097048657271 / 0.05237679067953294\n",
      "training (accuracy/loss):  0.8167361111111111 / 0.3832923326813743\n",
      "validation (accuracy/loss):  0.8130816272268013 / 0.0506451441452001\n",
      "training (accuracy/loss):  0.8205902777777778 / 0.37626173154454196\n",
      "validation (accuracy/loss):  0.8183993618718426 / 0.04973278318142806\n",
      "training (accuracy/loss):  0.8239583333333333 / 0.3715708155535025\n",
      "validation (accuracy/loss):  0.8218558893911194 / 0.04912470904906834\n",
      "training (accuracy/loss):  0.8267361111111111 / 0.3680961658556751\n",
      "validation (accuracy/loss):  0.8245147567136399 / 0.04867424106897924\n",
      "training (accuracy/loss):  0.8280555555555555 / 0.36536222563259974\n",
      "validation (accuracy/loss):  0.8258441903749003 / 0.048319600346484276\n",
      "training (accuracy/loss):  0.8300347222222222 / 0.3631242623212143\n",
      "validation (accuracy/loss):  0.829034831161925 / 0.04802908654080316\n",
      "training (accuracy/loss):  0.8313541666666666 / 0.3612401990368678\n",
      "validation (accuracy/loss):  0.8311619250199415 / 0.04778432776204082\n",
      "training (accuracy/loss):  0.8329166666666666 / 0.3596204688947127\n",
      "validation (accuracy/loss):  0.8327572454134539 / 0.04757375338820006\n",
      "training (accuracy/loss):  0.83375 / 0.35820510862774174\n",
      "validation (accuracy/loss):  0.833289018877958 / 0.047389620945148016\n",
      "training (accuracy/loss):  0.8346180555555556 / 0.3569520882588753\n",
      "validation (accuracy/loss):  0.8327572454134539 / 0.04722650447733333\n",
      "training (accuracy/loss):  0.8353819444444445 / 0.35583086055749985\n",
      "validation (accuracy/loss):  0.8335549056102101 / 0.047080460261328706\n",
      "training (accuracy/loss):  0.8365277777777778 / 0.35481856198427747\n",
      "validation (accuracy/loss):  0.833289018877958 / 0.04694853600752754\n",
      "training (accuracy/loss):  0.8369791666666667 / 0.3538976591372075\n",
      "validation (accuracy/loss):  0.8346184525392183 / 0.0468284670128894\n",
      "training (accuracy/loss):  0.8372916666666667 / 0.35305442804523257\n",
      "validation (accuracy/loss):  0.8351502260037225 / 0.046718479955515514\n",
      "training (accuracy/loss):  0.8380208333333333 / 0.35227793729496026\n",
      "validation (accuracy/loss):  0.8346184525392183 / 0.04661716176175097\n",
      "training (accuracy/loss):  0.8385069444444444 / 0.351559347328276\n",
      "validation (accuracy/loss):  0.8343525658069663 / 0.046523369240082234\n",
      "training (accuracy/loss):  0.8389236111111111 / 0.3508914152515699\n",
      "validation (accuracy/loss):  0.8343525658069663 / 0.04643616523895197\n",
      "training (accuracy/loss):  0.8396527777777778 / 0.3502681370801741\n",
      "validation (accuracy/loss):  0.8351502260037225 / 0.04635477250674713\n",
      "training (accuracy/loss):  0.8401041666666667 / 0.3496844842209852\n",
      "validation (accuracy/loss):  0.8348843392714703 / 0.04627853973077865\n",
      "training (accuracy/loss):  0.8405555555555555 / 0.3491362059508848\n",
      "validation (accuracy/loss):  0.8354161127359745 / 0.04620691607171779\n",
      "training (accuracy/loss):  0.8413888888888889 / 0.3486196791765509\n",
      "validation (accuracy/loss):  0.8348843392714703 / 0.0461394317793866\n",
      "training (accuracy/loss):  0.8417708333333334 / 0.34813179247156595\n",
      "validation (accuracy/loss):  0.8346184525392183 / 0.046075683236827904\n",
      "training (accuracy/loss):  0.8420138888888888 / 0.3476698555276621\n",
      "validation (accuracy/loss):  0.8348843392714703 / 0.046015321276048265\n",
      "training (accuracy/loss):  0.8423958333333333 / 0.3472315275893071\n",
      "validation (accuracy/loss):  0.8356819994682265 / 0.04595804194563532\n",
      "training (accuracy/loss):  0.8425347222222223 / 0.34681476037963155\n",
      "validation (accuracy/loss):  0.8354161127359745 / 0.04590357914049861\n",
      "training (accuracy/loss):  0.8428819444444444 / 0.34641775210056375\n",
      "validation (accuracy/loss):  0.8354161127359745 / 0.04585169866218416\n",
      "training (accuracy/loss):  0.8430555555555556 / 0.34603891004320053\n",
      "validation (accuracy/loss):  0.8354161127359745 / 0.04580219339105696\n",
      "training (accuracy/loss):  0.8431944444444445 / 0.3456768199737104\n",
      "validation (accuracy/loss):  0.8354161127359745 / 0.04575487933073281\n",
      "training (accuracy/loss):  0.8430555555555556 / 0.3453302208636201\n",
      "validation (accuracy/loss):  0.8356819994682265 / 0.045709592343197235\n",
      "training (accuracy/loss):  0.8431944444444445 / 0.34499798391363945\n",
      "validation (accuracy/loss):  0.8356819994682265 / 0.04566618543561365\n",
      "training (accuracy/loss):  0.8433333333333334 / 0.34467909500397365\n",
      "validation (accuracy/loss):  0.8362137729327307 / 0.04562452649073401\n",
      "training (accuracy/loss):  0.8433680555555556 / 0.34437263993228695\n",
      "validation (accuracy/loss):  0.8362137729327307 / 0.0455844963576747\n",
      "training (accuracy/loss):  0.8433333333333334 / 0.3440777919342601\n",
      "validation (accuracy/loss):  0.8362137729327307 / 0.04554598723656762\n",
      "training (accuracy/loss):  0.8433333333333334 / 0.3437938010731566\n",
      "validation (accuracy/loss):  0.8364796596649827 / 0.045508901305269904\n",
      "training (accuracy/loss):  0.8434375 / 0.3435199851678694\n",
      "validation (accuracy/loss):  0.8364796596649827 / 0.04547314954666499\n",
      "training (accuracy/loss):  0.8436111111111111 / 0.3432557220146795\n",
      "validation (accuracy/loss):  0.8370114331294869 / 0.0454386507341978\n",
      "training (accuracy/loss):  0.8437847222222222 / 0.343000442687907\n",
      "validation (accuracy/loss):  0.837543206593991 / 0.04540533057073602\n",
      "training (accuracy/loss):  0.8439236111111111 / 0.34275362572638596\n",
      "validation (accuracy/loss):  0.837809093326243 / 0.04537312093325332\n",
      "training (accuracy/loss):  0.8439583333333334 / 0.34251479209564556\n",
      "validation (accuracy/loss):  0.837543206593991 / 0.045341959218911404\n"
     ]
    }
   ],
   "source": [
    "# into the training epochs\n",
    "for epoch in range(max_iter):\n",
    "    # random shuffle for each epoch\n",
    "    # into the _shuffle(,)\n",
    "    randomize = np.arange(len(X_train_data))\n",
    "    np.random.shuffle(randomize)\n",
    "    X_train_data = X_train_data[randomize]\n",
    "    Y_train_data = Y_train_data[randomize]\n",
    "    #print(X_train_data.shape)\n",
    "    #print(Y_train_data.shape)\n",
    "    # done _shuffle(,)\n",
    "    \n",
    "    total_loss = 0.0\n",
    "    # Logistic regression train with batch\n",
    "    for idx in range(int(np.floor(len(Y_train_data)/batch_size))):\n",
    "        X = X_train_data[idx*batch_size:(idx+1)*batch_size]\n",
    "        Y = Y_train_data[idx*batch_size:(idx+1)*batch_size]\n",
    "            \n",
    "        # Find out the gradient of the loss\n",
    "        # w_grad, b_grad = _gradient_regularization(X, Y, w, b, lamda)\n",
    "        \n",
    "        # step into _gradient_regularization\n",
    "        # return the mean of the graident\n",
    "        # y_pred = get_prob(X, w, b)\n",
    "        \n",
    "        # step into get_prob\n",
    "        # the probability to output 1\n",
    "        # y_pred = _sigmoid(np.add(np.matmul(X_train_data, w), b))\n",
    "        \n",
    "        # step into _sigmoid\n",
    "        _temp_z = np.add(np.matmul(X_train_data, w), b)\n",
    "        y_pred = np.clip(1 / (1.0 + np.exp(-_temp_z)), 1e-6, 1-1e-6)\n",
    "        # end _sigmoid\n",
    "        \n",
    "        # end get_prob\n",
    "        \n",
    "        pred_error = Y_train_data - y_pred\n",
    "        w_grad = -np.mean(np.multiply(pred_error.T, X_train_data.T), 1)+lamda*w\n",
    "        b_grad = -np.mean(pred_error)\n",
    "        # end _gradient_regularization\n",
    "            \n",
    "        # gradient descent update\n",
    "        # learning rate decay with time\n",
    "        w = w - learning_rate/np.sqrt(step) * w_grad\n",
    "        b = b - learning_rate/np.sqrt(step) * b_grad\n",
    "        #print(b_grad)\n",
    "            \n",
    "        step = step+1\n",
    "        # end of for idx\n",
    "        \n",
    "    # Compute the loss and the accuracy of the training set\n",
    "    # y_train_pred = get_prob(X_train, w, b)\n",
    "    # step into get_prob... _sigmoid\n",
    "    _temp_z = np.add(np.matmul(X_train_data, w), b)\n",
    "    y_train_pred = np.clip(1 / (1.0 + np.exp(-_temp_z)), 1e-6, 1-1e-6)\n",
    "    # end get_prob\n",
    "    Y_train_pred = np.round(y_train_pred) # if >0.5 round up to 1\n",
    "    #print(y_train_pred)\n",
    "    #print(Y_train_pred)\n",
    "    \n",
    "    # train_acc.append(accuracy(Y_train_pred, Y_train_data))\n",
    "    # step into accuracy()\n",
    "    _acc = np.sum(Y_train_pred == Y_train_data)/len(Y_train_pred)\n",
    "    train_acc.append(_acc)\n",
    "    # end accuracy()\n",
    "    \n",
    "    # loss_train.append(_loss(y_train_pred, Y_train, lamda, w)/num_train)\n",
    "    # step into _loss()\n",
    "    # _cross_entropy(y_pred, Y_label) + lamda * np.sum(np.square(w))\n",
    "    # step into _cross_entropy\n",
    "    _cross_entropy = -np.dot(Y_train_data, np.log(y_train_pred))-np.dot((1-Y_train_data), np.log(1-y_train_pred))\n",
    "    # end _cross_entropy\n",
    "    _loss = _cross_entropy + lamda * np.sum(np.square(w))\n",
    "    # end _loss\n",
    "    loss_train.append(_loss/num_train)\n",
    "    \n",
    "    print(\"training (accuracy/loss): \", _acc, \"/\", _loss/num_train)\n",
    "    \n",
    "    # Compute the loss and the accuracy of the validation set\n",
    "    # y_dev_pred = get_prob(X_dev, w, b)\n",
    "    # Y_dev_pred = np.round(y_dev_pred)\n",
    "    # dev_acc.append(accuracy(Y_dev_pred, Y_dev))\n",
    "    # loss_validation.append(_loss(y_dev_pred, Y_dev, lamda, w)/num_dev)\n",
    "    _temp_z = np.add(np.matmul(X_dev, w), b)\n",
    "    y_dev_pred = np.clip(1 / (1.0 + np.exp(-_temp_z)), 1e-6, 1-1e-6)\n",
    "    Y_dev_pred = np.round(y_dev_pred) # if >0.5 round up to 1\n",
    "    _acc = np.sum(Y_dev_pred == Y_dev)/len(Y_dev_pred)\n",
    "    dev_acc.append(_acc)\n",
    "    _cross_entropy = -np.dot(Y_dev, np.log(y_dev_pred))-np.dot((1-Y_dev), np.log(1-y_dev_pred))\n",
    "    _loss = _cross_entropy + lamda * np.sum(np.square(w))\n",
    "    loss_validation.append(_loss/num_dev)\n",
    "    print(\"validation (accuracy/loss): \", _acc, \"/\", _loss/num_train)\n",
    "\n",
    "# this is the end of training epoch loop, and the end of Train(X, Y)"
   ]
  },
  {
   "cell_type": "code",
   "execution_count": 26,
   "metadata": {},
   "outputs": [],
   "source": [
    "# now, ready to plot the loss using loss_train and loss_validation\n",
    "import matplotlib.pyplot as plt\n",
    "%matplotlib inline"
   ]
  },
  {
   "cell_type": "code",
   "execution_count": 27,
   "metadata": {},
   "outputs": [
    {
     "data": {
      "image/png": "[encoded data removed]",
      "text/plain": [
       "<Figure size 432x288 with 1 Axes>"
      ]
     },
     "metadata": {
      "needs_background": "light"
     },
     "output_type": "display_data"
    }
   ],
   "source": [
    "plt.plot(loss_train)\n",
    "plt.plot(loss_validation)\n",
    "plt.legend(['train', 'dev'])\n",
    "plt.show()"
   ]
  },
  {
   "cell_type": "code",
   "execution_count": 28,
   "metadata": {},
   "outputs": [
    {
     "data": {
      "image/png": "[encoded data removed]",
      "text/plain": [
       "<Figure size 432x288 with 1 Axes>"
      ]
     },
     "metadata": {
      "needs_background": "light"
     },
     "output_type": "display_data"
    }
   ],
   "source": [
    "plt.plot(train_acc)\n",
    "plt.plot(dev_acc)\n",
    "plt.legend(['train', 'dev'])\n",
    "plt.show()"
   ]
  },
  {
   "cell_type": "code",
   "execution_count": null,
   "metadata": {},
   "outputs": [],
   "source": [
    "# OK, the above takes care of training\n",
    "# Below, there should be the prediction part; now that we have the best b and w"
   ]
  }
 ],
 "metadata": {
  "kernelspec": {
   "display_name": "Python 3",
   "language": "python",
   "name": "python3"
  },
  "language_info": {
   "codemirror_mode": {
    "name": "ipython",
    "version": 3
   },
   "file_extension": ".py",
   "mimetype": "text/x-python",
   "name": "python",
   "nbconvert_exporter": "python",
   "pygments_lexer": "ipython3",
   "version": "3.7.3"
  }
 },
 "nbformat": 4,
 "nbformat_minor": 2
}
