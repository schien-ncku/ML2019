{
 "cells": [
  {
   "cell_type": "markdown",
   "metadata": {},
   "source": [
    "# This is the sample code of generative model provided by TA2019\n",
    "# at https://ntumlta2019.github.io/ml-web-hw2/ProbabilisticGenerativeModel.html"
   ]
  },
  {
   "cell_type": "code",
   "execution_count": 21,
   "metadata": {},
   "outputs": [],
   "source": [
    "import numpy as np\n",
    "import csv\n",
    "\n",
    "# precessing X_train data\n",
    "with open('X_train') as csvfile:\n",
    "    rows = np.array(list(csv.reader(csvfile))[1:], dtype = float)\n",
    "    mean = np.mean(rows,axis=0).reshape(1,-1) # calculate the mean/mu (reshape the array to match columns)\n",
    "    std = np.std(rows,axis=0).reshape(1,-1)\n",
    "    theta = np.ones((rows.shape[1]+1,1),dtype = float) # prepare for sigmoid function? with 107 rows\n",
    "    for i in range(rows.shape[0]):\n",
    "        rows[i,:] = (rows[i,:] - mean) / std # the content of rows is modified to store probability?"
   ]
  },
  {
   "cell_type": "code",
   "execution_count": 22,
   "metadata": {},
   "outputs": [
    {
     "data": {
      "text/plain": [
       "(32561, 106)"
      ]
     },
     "execution_count": 22,
     "metadata": {},
     "output_type": "execute_result"
    }
   ],
   "source": [
    "rows.shape"
   ]
  },
  {
   "cell_type": "code",
   "execution_count": 23,
   "metadata": {},
   "outputs": [
    {
     "data": {
      "text/plain": [
       "(1, 106)"
      ]
     },
     "execution_count": 23,
     "metadata": {},
     "output_type": "execute_result"
    }
   ],
   "source": [
    "mean.shape"
   ]
  },
  {
   "cell_type": "code",
   "execution_count": 24,
   "metadata": {},
   "outputs": [
    {
     "data": {
      "text/plain": [
       "array([[1.36402231e+01, 1.05548357e+05, 4.70499205e-01, 7.38517868e+03,\n",
       "        4.02954031e+02, 1.23472391e+01, 1.69156346e-01, 2.45249908e-01,\n",
       "        1.46606581e-02, 4.59542277e-01, 1.81932448e-01, 2.68231601e-01,\n",
       "        1.95638776e-01, 2.07310723e-02, 2.30666513e-01, 1.66831845e-01,\n",
       "        1.86504444e-01, 1.14548145e-01, 7.16444399e-02, 1.00609979e-01,\n",
       "        1.39449175e-01, 1.24645762e-01, 1.78032130e-01, 2.01598538e-01,\n",
       "        3.70692970e-01, 1.11906232e-01, 4.67434054e-01, 2.23865931e-01,\n",
       "        3.95453878e-02, 1.31821632e-01, 4.16867882e-01, 3.43267459e-01,\n",
       "        2.65681681e-02, 4.98392350e-01, 1.12572837e-01, 4.69518478e-01,\n",
       "        1.74609353e-01, 1.71949305e-01, 3.19964146e-01, 1.66231131e-02,\n",
       "        3.31721738e-01, 3.30575211e-01, 1.72033139e-01, 2.00760005e-01,\n",
       "        2.40217073e-01, 3.01586335e-01, 6.74913810e-02, 3.33136419e-01,\n",
       "        1.39766029e-01, 3.15486118e-01, 1.66397365e-01, 2.15964940e-01,\n",
       "        2.31079491e-01, 4.90926454e-01, 4.35894788e-01, 1.70939659e-01,\n",
       "        3.62519719e-01, 3.07622643e-01, 2.14095285e-01, 9.72629236e-02,\n",
       "        1.75758736e-01, 2.94513056e-01, 9.08491637e-02, 3.52831794e-01,\n",
       "        2.41491132e-02, 6.08464680e-02, 4.79381221e-02, 4.25288182e-02,\n",
       "        5.39359659e-02, 4.63161898e-02, 2.93118573e-02, 5.69634133e-02,\n",
       "        5.25014566e-02, 2.98302331e-02, 6.47285450e-02, 2.98302331e-02,\n",
       "        4.42908370e-02, 3.67353210e-02, 5.54171853e-03, 1.99772680e-02,\n",
       "        2.47760866e-02, 1.99772680e-02, 5.53328721e-02, 3.63160334e-02,\n",
       "        2.71391749e-02, 4.72960840e-02, 4.98141570e-02, 4.35946414e-02,\n",
       "        2.35053819e-02, 1.39131538e-01, 3.22971149e-02, 2.07310723e-02,\n",
       "        3.08407652e-02, 7.77426334e-02, 4.28870578e-02, 3.36903175e-02,\n",
       "        5.90665991e-02, 1.91938331e-02, 4.95064694e-02, 3.95453878e-02,\n",
       "        2.35053819e-02, 2.41491132e-02, 3.05445953e-01, 4.53149239e-02,\n",
       "        2.21617675e-02, 1.32605700e-01]])"
      ]
     },
     "execution_count": 24,
     "metadata": {},
     "output_type": "execute_result"
    }
   ],
   "source": [
    "std"
   ]
  },
  {
   "cell_type": "code",
   "execution_count": 25,
   "metadata": {},
   "outputs": [
    {
     "data": {
      "text/plain": [
       "(107, 1)"
      ]
     },
     "execution_count": 25,
     "metadata": {},
     "output_type": "execute_result"
    }
   ],
   "source": [
    "theta.shape"
   ]
  },
  {
   "cell_type": "code",
   "execution_count": 26,
   "metadata": {},
   "outputs": [
    {
     "data": {
      "text/plain": [
       "array([[ 0.03067056, -1.06361075,  0.70307135, ..., -0.04540836,\n",
       "        -0.02217266, -0.13502327],\n",
       "       [ 0.83710898, -1.008707  ,  0.70307135, ..., -0.04540836,\n",
       "        -0.02217266, -0.13502327],\n",
       "       [-0.04264203,  0.2450785 ,  0.70307135, ..., -0.04540836,\n",
       "        -0.02217266, -0.13502327],\n",
       "       ...,\n",
       "       [ 1.42360965, -0.35877741, -1.42233076, ..., -0.04540836,\n",
       "        -0.02217266, -0.13502327],\n",
       "       [-1.21564337,  0.11095988,  0.70307135, ..., -0.04540836,\n",
       "        -0.02217266, -0.13502327],\n",
       "       [ 0.98373415,  0.92989258, -1.42233076, ..., -0.04540836,\n",
       "        -0.02217266, -0.13502327]])"
      ]
     },
     "execution_count": 26,
     "metadata": {},
     "output_type": "execute_result"
    }
   ],
   "source": [
    "rows"
   ]
  },
  {
   "cell_type": "code",
   "execution_count": 27,
   "metadata": {},
   "outputs": [],
   "source": [
    "data_x_train = rows"
   ]
  },
  {
   "cell_type": "code",
   "execution_count": null,
   "metadata": {},
   "outputs": [],
   "source": []
  }
 ],
 "metadata": {
  "kernelspec": {
   "display_name": "Python 3",
   "language": "python",
   "name": "python3"
  },
  "language_info": {
   "codemirror_mode": {
    "name": "ipython",
    "version": 3
   },
   "file_extension": ".py",
   "mimetype": "text/x-python",
   "name": "python",
   "nbconvert_exporter": "python",
   "pygments_lexer": "ipython3",
   "version": "3.7.3"
  }
 },
 "nbformat": 4,
 "nbformat_minor": 2
}
